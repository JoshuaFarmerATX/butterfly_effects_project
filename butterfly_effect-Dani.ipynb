{
 "cells": [
  {
   "cell_type": "code",
   "execution_count": 3,
   "metadata": {},
   "outputs": [],
   "source": [
    "import pandas as pd\n",
    "import matplotlib.pyplot as plt\n",
    "import numpy as np\n",
    "from pprint import pprint\n",
    "import requests\n",
    "import json\n",
    "import data_import\n",
    "import country_converter as coco\n",
    "import plotly.graph_objects as go\n"
   ]
  },
  {
   "cell_type": "code",
   "execution_count": 4,
   "metadata": {},
   "outputs": [],
   "source": [
    "rest_df = data_import.get_rest_countries()"
   ]
  },
  {
   "cell_type": "code",
   "execution_count": 5,
   "metadata": {},
   "outputs": [],
   "source": [
    "cia_df = data_import.get_cia_data()"
   ]
  },
  {
   "cell_type": "code",
   "execution_count": 6,
   "metadata": {},
   "outputs": [],
   "source": [
    "merged_data = pd.merge(rest_df, cia_df, how = 'inner', on = 'ISO3')"
   ]
  },
  {
   "cell_type": "code",
   "execution_count": 7,
   "metadata": {},
   "outputs": [
    {
     "data": {
      "text/html": [
       "<div>\n",
       "<style scoped>\n",
       "    .dataframe tbody tr th:only-of-type {\n",
       "        vertical-align: middle;\n",
       "    }\n",
       "\n",
       "    .dataframe tbody tr th {\n",
       "        vertical-align: top;\n",
       "    }\n",
       "\n",
       "    .dataframe thead th {\n",
       "        text-align: right;\n",
       "    }\n",
       "</style>\n",
       "<table border=\"1\" class=\"dataframe\">\n",
       "  <thead>\n",
       "    <tr style=\"text-align: right;\">\n",
       "      <th></th>\n",
       "      <th>country_x</th>\n",
       "      <th>ISO3</th>\n",
       "      <th>region</th>\n",
       "      <th>sub-region</th>\n",
       "      <th>latitude</th>\n",
       "      <th>longitude</th>\n",
       "      <th>borders</th>\n",
       "      <th>regional_bloc</th>\n",
       "      <th>country_y</th>\n",
       "      <th>population</th>\n",
       "      <th>internet_users</th>\n",
       "      <th>internet_%_of_population</th>\n",
       "      <th>internet_global_rank</th>\n",
       "      <th>telephones_fixed_lines</th>\n",
       "      <th>telephone_mobile_cellular</th>\n",
       "      <th>median_age</th>\n",
       "      <th>gdp_purchasing_power_parity</th>\n",
       "      <th>gdp_global_rank</th>\n",
       "      <th>education_expenditures</th>\n",
       "      <th>education_expeditures_global_rank</th>\n",
       "    </tr>\n",
       "  </thead>\n",
       "  <tbody>\n",
       "    <tr>\n",
       "      <th>0</th>\n",
       "      <td>Afghanistan</td>\n",
       "      <td>AFG</td>\n",
       "      <td>Asia</td>\n",
       "      <td>Southern Asia</td>\n",
       "      <td>33</td>\n",
       "      <td>65</td>\n",
       "      <td>[IRN, PAK, TKM, UZB, TJK, CHN]</td>\n",
       "      <td>South Asian Association for Regional Cooperation</td>\n",
       "      <td>Afghanistan</td>\n",
       "      <td>34940837.0</td>\n",
       "      <td>3531770.0</td>\n",
       "      <td>10.6</td>\n",
       "      <td>NaN</td>\n",
       "      <td>118769</td>\n",
       "      <td>23929713.0</td>\n",
       "      <td>19.0</td>\n",
       "      <td>6.945000e+10</td>\n",
       "      <td>101.0</td>\n",
       "      <td>3.9</td>\n",
       "      <td>111.0</td>\n",
       "    </tr>\n",
       "    <tr>\n",
       "      <th>1</th>\n",
       "      <td>Albania</td>\n",
       "      <td>ALB</td>\n",
       "      <td>Europe</td>\n",
       "      <td>Southern Europe</td>\n",
       "      <td>41</td>\n",
       "      <td>20</td>\n",
       "      <td>[MNE, GRC, MKD, KOS]</td>\n",
       "      <td>Central European Free Trade Agreement</td>\n",
       "      <td>Albania</td>\n",
       "      <td>3057220.0</td>\n",
       "      <td>2016516.0</td>\n",
       "      <td>66.4</td>\n",
       "      <td>110.0</td>\n",
       "      <td>247010</td>\n",
       "      <td>3497950.0</td>\n",
       "      <td>33.4</td>\n",
       "      <td>3.601000e+10</td>\n",
       "      <td>125.0</td>\n",
       "      <td>4.0</td>\n",
       "      <td>108.0</td>\n",
       "    </tr>\n",
       "    <tr>\n",
       "      <th>2</th>\n",
       "      <td>Algeria</td>\n",
       "      <td>DZA</td>\n",
       "      <td>Africa</td>\n",
       "      <td>Northern Africa</td>\n",
       "      <td>28</td>\n",
       "      <td>3</td>\n",
       "      <td>[TUN, LBY, NER, ESH, MRT, MLI, MAR]</td>\n",
       "      <td>African Union</td>\n",
       "      <td>Algeria</td>\n",
       "      <td>41657488.0</td>\n",
       "      <td>17291463.0</td>\n",
       "      <td>42.9</td>\n",
       "      <td>36.0</td>\n",
       "      <td>3130090</td>\n",
       "      <td>49873389.0</td>\n",
       "      <td>28.3</td>\n",
       "      <td>6.300000e+11</td>\n",
       "      <td>36.0</td>\n",
       "      <td>NaN</td>\n",
       "      <td>NaN</td>\n",
       "    </tr>\n",
       "    <tr>\n",
       "      <th>3</th>\n",
       "      <td>American Samoa</td>\n",
       "      <td>ASM</td>\n",
       "      <td>Oceania</td>\n",
       "      <td>Polynesia</td>\n",
       "      <td>-14.3333</td>\n",
       "      <td>-170</td>\n",
       "      <td>[]</td>\n",
       "      <td>None</td>\n",
       "      <td>American Samoa</td>\n",
       "      <td>50826.0</td>\n",
       "      <td>17000.0</td>\n",
       "      <td>31.3</td>\n",
       "      <td>205.0</td>\n",
       "      <td>10000</td>\n",
       "      <td>NaN</td>\n",
       "      <td>26.1</td>\n",
       "      <td>6.580000e+08</td>\n",
       "      <td>209.0</td>\n",
       "      <td>NaN</td>\n",
       "      <td>NaN</td>\n",
       "    </tr>\n",
       "    <tr>\n",
       "      <th>4</th>\n",
       "      <td>Andorra</td>\n",
       "      <td>AND</td>\n",
       "      <td>Europe</td>\n",
       "      <td>Southern Europe</td>\n",
       "      <td>42.5</td>\n",
       "      <td>1.5</td>\n",
       "      <td>[FRA, ESP]</td>\n",
       "      <td>None</td>\n",
       "      <td>Andorra</td>\n",
       "      <td>85708.0</td>\n",
       "      <td>83887.0</td>\n",
       "      <td>97.9</td>\n",
       "      <td>177.0</td>\n",
       "      <td>38411</td>\n",
       "      <td>80337.0</td>\n",
       "      <td>44.9</td>\n",
       "      <td>3.327000e+09</td>\n",
       "      <td>186.0</td>\n",
       "      <td>3.2</td>\n",
       "      <td>132.0</td>\n",
       "    </tr>\n",
       "  </tbody>\n",
       "</table>\n",
       "</div>"
      ],
      "text/plain": [
       "        country_x ISO3   region       sub-region latitude longitude  \\\n",
       "0     Afghanistan  AFG     Asia    Southern Asia       33        65   \n",
       "1         Albania  ALB   Europe  Southern Europe       41        20   \n",
       "2         Algeria  DZA   Africa  Northern Africa       28         3   \n",
       "3  American Samoa  ASM  Oceania        Polynesia -14.3333      -170   \n",
       "4         Andorra  AND   Europe  Southern Europe     42.5       1.5   \n",
       "\n",
       "                               borders  \\\n",
       "0       [IRN, PAK, TKM, UZB, TJK, CHN]   \n",
       "1                 [MNE, GRC, MKD, KOS]   \n",
       "2  [TUN, LBY, NER, ESH, MRT, MLI, MAR]   \n",
       "3                                   []   \n",
       "4                           [FRA, ESP]   \n",
       "\n",
       "                                      regional_bloc       country_y  \\\n",
       "0  South Asian Association for Regional Cooperation     Afghanistan   \n",
       "1             Central European Free Trade Agreement         Albania   \n",
       "2                                     African Union         Algeria   \n",
       "3                                              None  American Samoa   \n",
       "4                                              None         Andorra   \n",
       "\n",
       "   population  internet_users  internet_%_of_population  internet_global_rank  \\\n",
       "0  34940837.0       3531770.0                      10.6                   NaN   \n",
       "1   3057220.0       2016516.0                      66.4                 110.0   \n",
       "2  41657488.0      17291463.0                      42.9                  36.0   \n",
       "3     50826.0         17000.0                      31.3                 205.0   \n",
       "4     85708.0         83887.0                      97.9                 177.0   \n",
       "\n",
       "  telephones_fixed_lines  telephone_mobile_cellular  median_age  \\\n",
       "0                 118769                 23929713.0        19.0   \n",
       "1                 247010                  3497950.0        33.4   \n",
       "2                3130090                 49873389.0        28.3   \n",
       "3                  10000                        NaN        26.1   \n",
       "4                  38411                    80337.0        44.9   \n",
       "\n",
       "   gdp_purchasing_power_parity  gdp_global_rank  education_expenditures  \\\n",
       "0                 6.945000e+10            101.0                     3.9   \n",
       "1                 3.601000e+10            125.0                     4.0   \n",
       "2                 6.300000e+11             36.0                     NaN   \n",
       "3                 6.580000e+08            209.0                     NaN   \n",
       "4                 3.327000e+09            186.0                     3.2   \n",
       "\n",
       "   education_expeditures_global_rank  \n",
       "0                              111.0  \n",
       "1                              108.0  \n",
       "2                                NaN  \n",
       "3                                NaN  \n",
       "4                              132.0  "
      ]
     },
     "execution_count": 7,
     "metadata": {},
     "output_type": "execute_result"
    }
   ],
   "source": [
    "merged_data.head()"
   ]
  },
  {
   "cell_type": "code",
   "execution_count": 8,
   "metadata": {},
   "outputs": [],
   "source": [
    "merged_data = merged_data[['ISO3',\n",
    "                           'country_y',\n",
    "                           'region',\n",
    "                           'sub-region',\n",
    "                           'latitude',\n",
    "                           'longitude',\n",
    "                           'borders',\n",
    "                           'population',\n",
    "                           'internet_users',\n",
    "                           'internet_%_of_population',\n",
    "                           'median_age',\n",
    "                           'gdp_purchasing_power_parity',\n",
    "                           'education_expenditures']]"
   ]
  },
  {
   "cell_type": "code",
   "execution_count": 9,
   "metadata": {},
   "outputs": [
    {
     "data": {
      "text/html": [
       "<div>\n",
       "<style scoped>\n",
       "    .dataframe tbody tr th:only-of-type {\n",
       "        vertical-align: middle;\n",
       "    }\n",
       "\n",
       "    .dataframe tbody tr th {\n",
       "        vertical-align: top;\n",
       "    }\n",
       "\n",
       "    .dataframe thead th {\n",
       "        text-align: right;\n",
       "    }\n",
       "</style>\n",
       "<table border=\"1\" class=\"dataframe\">\n",
       "  <thead>\n",
       "    <tr style=\"text-align: right;\">\n",
       "      <th></th>\n",
       "      <th>ISO3</th>\n",
       "      <th>country_y</th>\n",
       "      <th>region</th>\n",
       "      <th>sub-region</th>\n",
       "      <th>latitude</th>\n",
       "      <th>longitude</th>\n",
       "      <th>borders</th>\n",
       "      <th>population</th>\n",
       "      <th>internet_users</th>\n",
       "      <th>internet_%_of_population</th>\n",
       "      <th>median_age</th>\n",
       "      <th>gdp_purchasing_power_parity</th>\n",
       "      <th>education_expenditures</th>\n",
       "    </tr>\n",
       "  </thead>\n",
       "  <tbody>\n",
       "    <tr>\n",
       "      <th>0</th>\n",
       "      <td>AFG</td>\n",
       "      <td>Afghanistan</td>\n",
       "      <td>Asia</td>\n",
       "      <td>Southern Asia</td>\n",
       "      <td>33</td>\n",
       "      <td>65</td>\n",
       "      <td>[IRN, PAK, TKM, UZB, TJK, CHN]</td>\n",
       "      <td>34940837.0</td>\n",
       "      <td>3531770.0</td>\n",
       "      <td>10.6</td>\n",
       "      <td>19.0</td>\n",
       "      <td>6.945000e+10</td>\n",
       "      <td>3.9</td>\n",
       "    </tr>\n",
       "    <tr>\n",
       "      <th>1</th>\n",
       "      <td>ALB</td>\n",
       "      <td>Albania</td>\n",
       "      <td>Europe</td>\n",
       "      <td>Southern Europe</td>\n",
       "      <td>41</td>\n",
       "      <td>20</td>\n",
       "      <td>[MNE, GRC, MKD, KOS]</td>\n",
       "      <td>3057220.0</td>\n",
       "      <td>2016516.0</td>\n",
       "      <td>66.4</td>\n",
       "      <td>33.4</td>\n",
       "      <td>3.601000e+10</td>\n",
       "      <td>4.0</td>\n",
       "    </tr>\n",
       "    <tr>\n",
       "      <th>2</th>\n",
       "      <td>DZA</td>\n",
       "      <td>Algeria</td>\n",
       "      <td>Africa</td>\n",
       "      <td>Northern Africa</td>\n",
       "      <td>28</td>\n",
       "      <td>3</td>\n",
       "      <td>[TUN, LBY, NER, ESH, MRT, MLI, MAR]</td>\n",
       "      <td>41657488.0</td>\n",
       "      <td>17291463.0</td>\n",
       "      <td>42.9</td>\n",
       "      <td>28.3</td>\n",
       "      <td>6.300000e+11</td>\n",
       "      <td>NaN</td>\n",
       "    </tr>\n",
       "    <tr>\n",
       "      <th>3</th>\n",
       "      <td>ASM</td>\n",
       "      <td>American Samoa</td>\n",
       "      <td>Oceania</td>\n",
       "      <td>Polynesia</td>\n",
       "      <td>-14.3333</td>\n",
       "      <td>-170</td>\n",
       "      <td>[]</td>\n",
       "      <td>50826.0</td>\n",
       "      <td>17000.0</td>\n",
       "      <td>31.3</td>\n",
       "      <td>26.1</td>\n",
       "      <td>6.580000e+08</td>\n",
       "      <td>NaN</td>\n",
       "    </tr>\n",
       "    <tr>\n",
       "      <th>4</th>\n",
       "      <td>AND</td>\n",
       "      <td>Andorra</td>\n",
       "      <td>Europe</td>\n",
       "      <td>Southern Europe</td>\n",
       "      <td>42.5</td>\n",
       "      <td>1.5</td>\n",
       "      <td>[FRA, ESP]</td>\n",
       "      <td>85708.0</td>\n",
       "      <td>83887.0</td>\n",
       "      <td>97.9</td>\n",
       "      <td>44.9</td>\n",
       "      <td>3.327000e+09</td>\n",
       "      <td>3.2</td>\n",
       "    </tr>\n",
       "  </tbody>\n",
       "</table>\n",
       "</div>"
      ],
      "text/plain": [
       "  ISO3       country_y   region       sub-region latitude longitude  \\\n",
       "0  AFG     Afghanistan     Asia    Southern Asia       33        65   \n",
       "1  ALB         Albania   Europe  Southern Europe       41        20   \n",
       "2  DZA         Algeria   Africa  Northern Africa       28         3   \n",
       "3  ASM  American Samoa  Oceania        Polynesia -14.3333      -170   \n",
       "4  AND         Andorra   Europe  Southern Europe     42.5       1.5   \n",
       "\n",
       "                               borders  population  internet_users  \\\n",
       "0       [IRN, PAK, TKM, UZB, TJK, CHN]  34940837.0       3531770.0   \n",
       "1                 [MNE, GRC, MKD, KOS]   3057220.0       2016516.0   \n",
       "2  [TUN, LBY, NER, ESH, MRT, MLI, MAR]  41657488.0      17291463.0   \n",
       "3                                   []     50826.0         17000.0   \n",
       "4                           [FRA, ESP]     85708.0         83887.0   \n",
       "\n",
       "   internet_%_of_population  median_age  gdp_purchasing_power_parity  \\\n",
       "0                      10.6        19.0                 6.945000e+10   \n",
       "1                      66.4        33.4                 3.601000e+10   \n",
       "2                      42.9        28.3                 6.300000e+11   \n",
       "3                      31.3        26.1                 6.580000e+08   \n",
       "4                      97.9        44.9                 3.327000e+09   \n",
       "\n",
       "   education_expenditures  \n",
       "0                     3.9  \n",
       "1                     4.0  \n",
       "2                     NaN  \n",
       "3                     NaN  \n",
       "4                     3.2  "
      ]
     },
     "execution_count": 9,
     "metadata": {},
     "output_type": "execute_result"
    }
   ],
   "source": [
    "merged_data.head()"
   ]
  },
  {
   "cell_type": "markdown",
   "metadata": {},
   "source": [
    "<h1> Josh's Workspace </h1>"
   ]
  },
  {
   "cell_type": "code",
   "execution_count": 10,
   "metadata": {},
   "outputs": [],
   "source": [
    "pop_low = merged_data[\"population\"].quantile(0.1)\n",
    "pop_hi  = merged_data[\"population\"].quantile(0.9)\n",
    "edu_low = merged_data['education_expenditures'].quantile(0.01)\n",
    "edu_hi = merged_data['education_expenditures'].quantile(0.99)\n",
    "\n",
    "\n",
    "df_filtered = merged_data[(merged_data[\"population\"] < pop_hi) & (merged_data[\"population\"] > pop_low) & (merged_data['education_expenditures'] > edu_low) & (merged_data['education_expenditures'] < edu_hi)]"
   ]
  },
  {
   "cell_type": "code",
   "execution_count": 11,
   "metadata": {},
   "outputs": [
    {
     "data": {
      "image/png": "[encoded data removed]",
      "text/plain": [
       "<Figure size 432x288 with 1 Axes>"
      ]
     },
     "metadata": {
      "needs_background": "light"
     },
     "output_type": "display_data"
    }
   ],
   "source": [
    "z = np.polyfit(df_filtered['internet_%_of_population'], df_filtered['education_expenditures'], 1)\n",
    "p = np.poly1d(z)\n",
    "\n",
    "plt.plot(df_filtered['internet_%_of_population'],p(df_filtered['internet_%_of_population']),\"r--\")\n",
    "plt.scatter(df_filtered['internet_%_of_population'], df_filtered['education_expenditures'], alpha = .6)\n",
    "plt.xlabel('Percent of Internet Usage')\n",
    "plt.ylabel('Education Expenditures (GDP %)')\n",
    "\n",
    "plt.show()"
   ]
  },
  {
   "cell_type": "code",
   "execution_count": 12,
   "metadata": {},
   "outputs": [],
   "source": [
    "sub_df = df_filtered[['sub-region', 'internet_%_of_population', 'median_age', 'education_expenditures']]"
   ]
  },
  {
   "cell_type": "code",
   "execution_count": 13,
   "metadata": {},
   "outputs": [],
   "source": [
    "sub_df = sub_df.groupby('sub-region').mean()"
   ]
  },
  {
   "cell_type": "code",
   "execution_count": 14,
   "metadata": {},
   "outputs": [
    {
     "data": {
      "text/html": [
       "<div>\n",
       "<style scoped>\n",
       "    .dataframe tbody tr th:only-of-type {\n",
       "        vertical-align: middle;\n",
       "    }\n",
       "\n",
       "    .dataframe tbody tr th {\n",
       "        vertical-align: top;\n",
       "    }\n",
       "\n",
       "    .dataframe thead th {\n",
       "        text-align: right;\n",
       "    }\n",
       "</style>\n",
       "<table border=\"1\" class=\"dataframe\">\n",
       "  <thead>\n",
       "    <tr style=\"text-align: right;\">\n",
       "      <th></th>\n",
       "      <th>internet_%_of_population</th>\n",
       "      <th>median_age</th>\n",
       "      <th>education_expenditures</th>\n",
       "    </tr>\n",
       "    <tr>\n",
       "      <th>sub-region</th>\n",
       "      <th></th>\n",
       "      <th></th>\n",
       "      <th></th>\n",
       "    </tr>\n",
       "  </thead>\n",
       "  <tbody>\n",
       "    <tr>\n",
       "      <th>Australia and New Zealand</th>\n",
       "      <td>88.350000</td>\n",
       "      <td>38.450000</td>\n",
       "      <td>5.800000</td>\n",
       "    </tr>\n",
       "    <tr>\n",
       "      <th>Caribbean</th>\n",
       "      <td>64.366667</td>\n",
       "      <td>34.358333</td>\n",
       "      <td>5.000000</td>\n",
       "    </tr>\n",
       "    <tr>\n",
       "      <th>Central America</th>\n",
       "      <td>40.385714</td>\n",
       "      <td>26.357143</td>\n",
       "      <td>4.942857</td>\n",
       "    </tr>\n",
       "    <tr>\n",
       "      <th>Central Asia</th>\n",
       "      <td>39.320000</td>\n",
       "      <td>27.980000</td>\n",
       "      <td>4.940000</td>\n",
       "    </tr>\n",
       "    <tr>\n",
       "      <th>Eastern Africa</th>\n",
       "      <td>23.500000</td>\n",
       "      <td>21.538462</td>\n",
       "      <td>4.446154</td>\n",
       "    </tr>\n",
       "  </tbody>\n",
       "</table>\n",
       "</div>"
      ],
      "text/plain": [
       "                           internet_%_of_population  median_age  \\\n",
       "sub-region                                                        \n",
       "Australia and New Zealand                 88.350000   38.450000   \n",
       "Caribbean                                 64.366667   34.358333   \n",
       "Central America                           40.385714   26.357143   \n",
       "Central Asia                              39.320000   27.980000   \n",
       "Eastern Africa                            23.500000   21.538462   \n",
       "\n",
       "                           education_expenditures  \n",
       "sub-region                                         \n",
       "Australia and New Zealand                5.800000  \n",
       "Caribbean                                5.000000  \n",
       "Central America                          4.942857  \n",
       "Central Asia                             4.940000  \n",
       "Eastern Africa                           4.446154  "
      ]
     },
     "execution_count": 14,
     "metadata": {},
     "output_type": "execute_result"
    }
   ],
   "source": [
    "sub_df.head()"
   ]
  },
  {
   "cell_type": "code",
   "execution_count": 15,
   "metadata": {},
   "outputs": [
    {
     "data": {
      "image/png": "[encoded data removed]",
      "text/plain": [
       "<Figure size 432x288 with 1 Axes>"
      ]
     },
     "metadata": {
      "needs_background": "light"
     },
     "output_type": "display_data"
    }
   ],
   "source": [
    "z_trend = np.polyfit(df_filtered['median_age'], df_filtered['internet_%_of_population'], 1)\n",
    "p_trend = np.poly1d(z_trend)\n",
    "\n",
    "plt.plot(df_filtered['median_age'],p_trend(df_filtered['median_age']),\"r--\")\n",
    "plt.scatter(df_filtered['median_age'], df_filtered['internet_%_of_population'])\n",
    "plt.xlabel('Median Age')\n",
    "plt.ylabel('% of Population with Internet')\n",
    "plt.show()"
   ]
  },
  {
   "cell_type": "markdown",
   "metadata": {},
   "source": [
    "<h1>Daniela's Workspace</h1>"
   ]
  },
  {
   "cell_type": "code",
   "execution_count": 16,
   "metadata": {},
   "outputs": [],
   "source": [
    "world = merged_data.loc[merged_data.ISO3.str.contains('World')]\n"
   ]
  },
  {
   "cell_type": "code",
   "execution_count": 17,
   "metadata": {},
   "outputs": [
    {
     "data": {
      "image/png": "[encoded data removed]",
      "text/plain": [
       "<Figure size 576x360 with 1 Axes>"
      ]
     },
     "metadata": {
      "needs_background": "light"
     },
     "output_type": "display_data"
    }
   ],
   "source": [
    "#plot World Population versus Internet Users\n",
    "world2 = merged_data.iloc[226]\n",
    "round_population = round(world2.population/1000000000,1)\n",
    "round_users = round(world2.internet_users/1000000000,1)\n",
    "data = {'Population': round_population, 'Internet Users': round_users}\n",
    "names = list(data.keys())\n",
    "values = list(data.values())\n",
    "fig, axs = plt.subplots(1, 1, figsize=(8, 5), sharey=False)\n",
    "axs.bar(names, values)\n",
    "plt.title(\"World Population versus Internet Users in 2016 - In Billions\",fontsize= 20)\n",
    "plt.show()"
   ]
  },
  {
   "cell_type": "code",
   "execution_count": 22,
   "metadata": {},
   "outputs": [
    {
     "data": {
      "image/png": "[encoded data removed]",
      "text/plain": [
       "<Figure size 1080x720 with 1 Axes>"
      ]
     },
     "metadata": {
      "needs_background": "light"
     },
     "output_type": "display_data"
    }
   ],
   "source": [
    "# Population versus Internet users by area\n",
    "per_sub_area = (merged_data[['region', 'population', 'internet_users']]).groupby(['region']).sum()\n",
    "per_sub_area = per_sub_area.drop('World')\n",
    "per_sub_area = per_sub_area.drop('Polar')\n",
    "\n",
    "\n",
    "per_sub_area = round(per_sub_area/1000000,2)\n",
    "#plot\n",
    "per_sub_area.plot(kind=\"bar\",\n",
    "                  colormap='winter',\n",
    "                  figsize=(15,10)\n",
    "                 )\n",
    "plt.title('Population versus Internet Users by Area in 2016', fontsize=20)\n",
    "plt.ylabel(\"Population\", fontsize=14)\n",
    "plt.xlabel('')\n",
    "plt.legend(['Population', \"Internet Users\"]);\n",
    "plt.xticks(rotation =0,fontsize =14)\n",
    "plt.show()"
   ]
  },
  {
   "cell_type": "code",
   "execution_count": 23,
   "metadata": {},
   "outputs": [
    {
     "data": {
      "image/png": "[encoded data removed]",
      "text/plain": [
       "<Figure size 432x288 with 1 Axes>"
      ]
     },
     "metadata": {
      "needs_background": "light"
     },
     "output_type": "display_data"
    }
   ],
   "source": [
    "# What countries have almost 100% of their population using the Internet?\n",
    "top_perc_internet_population = merged_data[['country_y', 'internet_%_of_population']]\\\n",
    "                            .sort_values(by=['internet_%_of_population'], ascending=False)\\\n",
    "                            .head(10)\\\n",
    "                            .sort_values(by=['internet_%_of_population'], ascending=True)\\\n",
    "                            .set_index('country_y')\n",
    "top_perc_internet_population.plot(kind='barh',\n",
    "                                 legend=False,\n",
    "                                 colormap='winter'\n",
    "                             )\n",
    "plt.title(\"Top 10 Countries That Almost Everybody Uses Internet in 2016 \", fontsize=20)\n",
    "plt.xlabel('% of Population Using the Internet', fontsize=14)\n",
    "plt.ylabel(' ',fontsize=14)\n",
    "plt.show()"
   ]
  },
  {
   "cell_type": "code",
   "execution_count": 24,
   "metadata": {},
   "outputs": [
    {
     "data": {
      "image/png": "[encoded data removed]",
      "text/plain": [
       "<Figure size 432x288 with 1 Axes>"
      ]
     },
     "metadata": {
      "needs_background": "light"
     },
     "output_type": "display_data"
    }
   ],
   "source": [
    "# What countries have the lowest Internet penetration rate in 2016?\n",
    "less_perc_internet_population = merged_data[['country_y', 'internet_%_of_population']]\\\n",
    "                            .sort_values(by=['internet_%_of_population'], ascending=True)\\\n",
    "                            .head(10)\\\n",
    "                            .set_index('country_y')\n",
    "less_perc_internet_population.plot(kind='barh',\n",
    "                                   legend=None,\n",
    "                                   colormap='winter')\n",
    "plt.title(\"Top 10 Countries With Lowest Internet Penetration Rate in 2016\", fontsize=20)\n",
    "plt.xlabel('% of Population Using the Internet', fontsize=14)\n",
    "plt.ylabel('')\n",
    "plt.show()"
   ]
  },
  {
   "cell_type": "markdown",
   "metadata": {},
   "source": [
    "<h1>Cesar's Workspace</h1>"
   ]
  },
  {
   "cell_type": "code",
   "execution_count": null,
   "metadata": {},
   "outputs": [],
   "source": []
  },
  {
   "cell_type": "markdown",
   "metadata": {},
   "source": [
    "<h1>Color Map</h1>"
   ]
  },
  {
   "cell_type": "code",
   "execution_count": null,
   "metadata": {},
   "outputs": [],
   "source": [
    "maps_df = merged_data[['country_y', 'internet_%_of_population', 'ISO3']]\n",
    "\n",
    "fig = go.Figure(data=go.Choropleth(\n",
    "    locations = maps_df['ISO3'],\n",
    "    z = maps_df['internet_%_of_population'],\n",
    "    text = maps_df['country_y'],\n",
    "    colorscale = 'Blues',\n",
    "    autocolorscale=False,\n",
    "    marker_line_color='darkgrey',\n",
    "    marker_line_width=0.9,\n",
    "    colorbar_title = 'Internet % of Population',\n",
    "))\n",
    "\n",
    "fig.update_layout(\n",
    "    title_text='Global Internet Usage by Country',\n",
    "    geo=dict(\n",
    "        showframe=False,\n",
    "        showcoastlines=False,\n",
    "        projection_type='equirectangular'\n",
    "    ),\n",
    "#     annotations = [dict(\n",
    "#         x=0.55,\n",
    "#         y=0.1,\n",
    "#         xref='paper',\n",
    "#         yref='paper',\n",
    "#         text='Source: <a href=\"https://www.cia.gov/library/publications/the-world-factbook/fields/2195.html\">\\\n",
    "#             CIA World Factbook</a>',\n",
    "#         showarrow = False\n",
    "#     )]\n",
    ")\n",
    "\n",
    "fig.show()"
   ]
  },
  {
   "cell_type": "markdown",
   "metadata": {},
   "source": [
    "<h1>Cleaned Data Output</h1>"
   ]
  },
  {
   "cell_type": "code",
   "execution_count": 18,
   "metadata": {},
   "outputs": [],
   "source": [
    "merged_data.columns = merged_data.columns.str.title().str.replace('_', ' ')\n",
    "merged_data = merged_data.rename(columns = {'Iso3': 'ISO3', 'Country Y': 'Country'})"
   ]
  },
  {
   "cell_type": "code",
   "execution_count": 19,
   "metadata": {},
   "outputs": [
    {
     "data": {
      "text/html": [
       "<div>\n",
       "<style scoped>\n",
       "    .dataframe tbody tr th:only-of-type {\n",
       "        vertical-align: middle;\n",
       "    }\n",
       "\n",
       "    .dataframe tbody tr th {\n",
       "        vertical-align: top;\n",
       "    }\n",
       "\n",
       "    .dataframe thead th {\n",
       "        text-align: right;\n",
       "    }\n",
       "</style>\n",
       "<table border=\"1\" class=\"dataframe\">\n",
       "  <thead>\n",
       "    <tr style=\"text-align: right;\">\n",
       "      <th></th>\n",
       "      <th>ISO3</th>\n",
       "      <th>Country</th>\n",
       "      <th>Region</th>\n",
       "      <th>Sub-Region</th>\n",
       "      <th>Latitude</th>\n",
       "      <th>Longitude</th>\n",
       "      <th>Borders</th>\n",
       "      <th>Population</th>\n",
       "      <th>Internet Users</th>\n",
       "      <th>Internet % Of Population</th>\n",
       "      <th>Median Age</th>\n",
       "      <th>Education Expenditures</th>\n",
       "    </tr>\n",
       "  </thead>\n",
       "  <tbody>\n",
       "    <tr>\n",
       "      <th>0</th>\n",
       "      <td>AFG</td>\n",
       "      <td>Afghanistan</td>\n",
       "      <td>Asia</td>\n",
       "      <td>Southern Asia</td>\n",
       "      <td>33</td>\n",
       "      <td>65</td>\n",
       "      <td>[IRN, PAK, TKM, UZB, TJK, CHN]</td>\n",
       "      <td>34940837.0</td>\n",
       "      <td>3531770.0</td>\n",
       "      <td>10.6</td>\n",
       "      <td>19.0</td>\n",
       "      <td>3.9</td>\n",
       "    </tr>\n",
       "    <tr>\n",
       "      <th>1</th>\n",
       "      <td>ALB</td>\n",
       "      <td>Albania</td>\n",
       "      <td>Europe</td>\n",
       "      <td>Southern Europe</td>\n",
       "      <td>41</td>\n",
       "      <td>20</td>\n",
       "      <td>[MNE, GRC, MKD, KOS]</td>\n",
       "      <td>3057220.0</td>\n",
       "      <td>2016516.0</td>\n",
       "      <td>66.4</td>\n",
       "      <td>33.4</td>\n",
       "      <td>4.0</td>\n",
       "    </tr>\n",
       "    <tr>\n",
       "      <th>2</th>\n",
       "      <td>DZA</td>\n",
       "      <td>Algeria</td>\n",
       "      <td>Africa</td>\n",
       "      <td>Northern Africa</td>\n",
       "      <td>28</td>\n",
       "      <td>3</td>\n",
       "      <td>[TUN, LBY, NER, ESH, MRT, MLI, MAR]</td>\n",
       "      <td>41657488.0</td>\n",
       "      <td>17291463.0</td>\n",
       "      <td>42.9</td>\n",
       "      <td>28.3</td>\n",
       "      <td>NaN</td>\n",
       "    </tr>\n",
       "    <tr>\n",
       "      <th>3</th>\n",
       "      <td>ASM</td>\n",
       "      <td>American Samoa</td>\n",
       "      <td>Oceania</td>\n",
       "      <td>Polynesia</td>\n",
       "      <td>-14.3333</td>\n",
       "      <td>-170</td>\n",
       "      <td>[]</td>\n",
       "      <td>50826.0</td>\n",
       "      <td>17000.0</td>\n",
       "      <td>31.3</td>\n",
       "      <td>26.1</td>\n",
       "      <td>NaN</td>\n",
       "    </tr>\n",
       "    <tr>\n",
       "      <th>4</th>\n",
       "      <td>AND</td>\n",
       "      <td>Andorra</td>\n",
       "      <td>Europe</td>\n",
       "      <td>Southern Europe</td>\n",
       "      <td>42.5</td>\n",
       "      <td>1.5</td>\n",
       "      <td>[FRA, ESP]</td>\n",
       "      <td>85708.0</td>\n",
       "      <td>83887.0</td>\n",
       "      <td>97.9</td>\n",
       "      <td>44.9</td>\n",
       "      <td>3.2</td>\n",
       "    </tr>\n",
       "  </tbody>\n",
       "</table>\n",
       "</div>"
      ],
      "text/plain": [
       "  ISO3         Country   Region       Sub-Region Latitude Longitude  \\\n",
       "0  AFG     Afghanistan     Asia    Southern Asia       33        65   \n",
       "1  ALB         Albania   Europe  Southern Europe       41        20   \n",
       "2  DZA         Algeria   Africa  Northern Africa       28         3   \n",
       "3  ASM  American Samoa  Oceania        Polynesia -14.3333      -170   \n",
       "4  AND         Andorra   Europe  Southern Europe     42.5       1.5   \n",
       "\n",
       "                               Borders  Population  Internet Users  \\\n",
       "0       [IRN, PAK, TKM, UZB, TJK, CHN]  34940837.0       3531770.0   \n",
       "1                 [MNE, GRC, MKD, KOS]   3057220.0       2016516.0   \n",
       "2  [TUN, LBY, NER, ESH, MRT, MLI, MAR]  41657488.0      17291463.0   \n",
       "3                                   []     50826.0         17000.0   \n",
       "4                           [FRA, ESP]     85708.0         83887.0   \n",
       "\n",
       "   Internet % Of Population  Median Age  Education Expenditures  \n",
       "0                      10.6        19.0                     3.9  \n",
       "1                      66.4        33.4                     4.0  \n",
       "2                      42.9        28.3                     NaN  \n",
       "3                      31.3        26.1                     NaN  \n",
       "4                      97.9        44.9                     3.2  "
      ]
     },
     "execution_count": 19,
     "metadata": {},
     "output_type": "execute_result"
    }
   ],
   "source": [
    "merged_data.head()"
   ]
  },
  {
   "cell_type": "code",
   "execution_count": 20,
   "metadata": {},
   "outputs": [],
   "source": [
    "merged_data.to_csv('new_merged.csv')"
   ]
  }
 ],
 "metadata": {
  "kernelspec": {
   "display_name": "butterflyeffect",
   "language": "python",
   "name": "butterflyeffect"
  },
  "language_info": {
   "codemirror_mode": {
    "name": "ipython",
    "version": 3
   },
   "file_extension": ".py",
   "mimetype": "text/x-python",
   "name": "python",
   "nbconvert_exporter": "python",
   "pygments_lexer": "ipython3",
   "version": "3.7.5"
  }
 },
 "nbformat": 4,
 "nbformat_minor": 4
}
